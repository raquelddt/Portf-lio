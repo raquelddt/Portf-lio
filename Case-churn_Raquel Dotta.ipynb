{
 "cells": [
  {
   "cell_type": "markdown",
   "metadata": {},
   "source": [
    "### Case Churn - Neon"
   ]
  },
  {
   "cell_type": "code",
   "execution_count": 1,
   "metadata": {},
   "outputs": [],
   "source": [
    "import numpy as np\n",
    "import pandas as pd\n",
    "import matplotlib.pyplot as plt\n",
    "import seaborn as sns\n",
    "from sklearn.model_selection import train_test_split, cross_val_score\n",
    "from sklearn.preprocessing import LabelEncoder\n",
    "from sklearn.preprocessing import MinMaxScaler\n",
    "from imblearn.over_sampling import RandomOverSampler\n",
    "from sklearn.ensemble import RandomForestClassifier, BaggingClassifier\n",
    "from sklearn.linear_model import LogisticRegression\n",
    "from sklearn.neighbors import KNeighborsClassifier\n",
    "from xgboost import XGBClassifier\n",
    "from tqdm.notebook import tqdm\n",
    "from sklearn.metrics import classification_report, confusion_matrix\n",
    "\n",
    "%matplotlib inline"
   ]
  },
  {
   "cell_type": "markdown",
   "metadata": {
    "id": "bnh0mBqwRGdO"
   },
   "source": [
    "**Importando os dados**"
   ]
  },
  {
   "cell_type": "code",
   "execution_count": 2,
   "metadata": {},
   "outputs": [
    {
     "data": {
      "text/html": [
       "<div>\n",
       "<style scoped>\n",
       "    .dataframe tbody tr th:only-of-type {\n",
       "        vertical-align: middle;\n",
       "    }\n",
       "\n",
       "    .dataframe tbody tr th {\n",
       "        vertical-align: top;\n",
       "    }\n",
       "\n",
       "    .dataframe thead th {\n",
       "        text-align: right;\n",
       "    }\n",
       "</style>\n",
       "<table border=\"1\" class=\"dataframe\">\n",
       "  <thead>\n",
       "    <tr style=\"text-align: right;\">\n",
       "      <th></th>\n",
       "      <th>Score Crédito</th>\n",
       "      <th>Estado</th>\n",
       "      <th>Gênero</th>\n",
       "      <th>Idade</th>\n",
       "      <th>Tempo como cliente (meses)</th>\n",
       "      <th>Saldo</th>\n",
       "      <th>Número de produtos</th>\n",
       "      <th>Possui Cartao de Crédito</th>\n",
       "      <th>Assina mensalidade</th>\n",
       "      <th>Renda Mensal Presumida (R$)</th>\n",
       "      <th>Churn_2_meses</th>\n",
       "    </tr>\n",
       "  </thead>\n",
       "  <tbody>\n",
       "    <tr>\n",
       "      <th>0</th>\n",
       "      <td>619</td>\n",
       "      <td>São Paulo</td>\n",
       "      <td>Feminino</td>\n",
       "      <td>42</td>\n",
       "      <td>2</td>\n",
       "      <td>0.00</td>\n",
       "      <td>1</td>\n",
       "      <td>1</td>\n",
       "      <td>1</td>\n",
       "      <td>4222.870000</td>\n",
       "      <td>1</td>\n",
       "    </tr>\n",
       "    <tr>\n",
       "      <th>1</th>\n",
       "      <td>608</td>\n",
       "      <td>Rio de Janeiro</td>\n",
       "      <td>Feminino</td>\n",
       "      <td>41</td>\n",
       "      <td>1</td>\n",
       "      <td>83807.86</td>\n",
       "      <td>1</td>\n",
       "      <td>0</td>\n",
       "      <td>1</td>\n",
       "      <td>4689.274167</td>\n",
       "      <td>0</td>\n",
       "    </tr>\n",
       "    <tr>\n",
       "      <th>2</th>\n",
       "      <td>502</td>\n",
       "      <td>São Paulo</td>\n",
       "      <td>Feminino</td>\n",
       "      <td>42</td>\n",
       "      <td>8</td>\n",
       "      <td>159660.80</td>\n",
       "      <td>3</td>\n",
       "      <td>1</td>\n",
       "      <td>0</td>\n",
       "      <td>4747.148750</td>\n",
       "      <td>1</td>\n",
       "    </tr>\n",
       "    <tr>\n",
       "      <th>3</th>\n",
       "      <td>699</td>\n",
       "      <td>São Paulo</td>\n",
       "      <td>Feminino</td>\n",
       "      <td>39</td>\n",
       "      <td>1</td>\n",
       "      <td>0.00</td>\n",
       "      <td>2</td>\n",
       "      <td>0</td>\n",
       "      <td>0</td>\n",
       "      <td>3909.442917</td>\n",
       "      <td>0</td>\n",
       "    </tr>\n",
       "    <tr>\n",
       "      <th>4</th>\n",
       "      <td>850</td>\n",
       "      <td>Rio de Janeiro</td>\n",
       "      <td>Feminino</td>\n",
       "      <td>43</td>\n",
       "      <td>2</td>\n",
       "      <td>125510.82</td>\n",
       "      <td>1</td>\n",
       "      <td>1</td>\n",
       "      <td>1</td>\n",
       "      <td>3295.170833</td>\n",
       "      <td>0</td>\n",
       "    </tr>\n",
       "    <tr>\n",
       "      <th>5</th>\n",
       "      <td>645</td>\n",
       "      <td>Rio de Janeiro</td>\n",
       "      <td>Masculino</td>\n",
       "      <td>44</td>\n",
       "      <td>8</td>\n",
       "      <td>113755.78</td>\n",
       "      <td>2</td>\n",
       "      <td>1</td>\n",
       "      <td>0</td>\n",
       "      <td>6239.862917</td>\n",
       "      <td>1</td>\n",
       "    </tr>\n",
       "    <tr>\n",
       "      <th>6</th>\n",
       "      <td>822</td>\n",
       "      <td>São Paulo</td>\n",
       "      <td>Masculino</td>\n",
       "      <td>50</td>\n",
       "      <td>7</td>\n",
       "      <td>0.00</td>\n",
       "      <td>2</td>\n",
       "      <td>1</td>\n",
       "      <td>1</td>\n",
       "      <td>419.283333</td>\n",
       "      <td>0</td>\n",
       "    </tr>\n",
       "    <tr>\n",
       "      <th>7</th>\n",
       "      <td>376</td>\n",
       "      <td>Minas Gerais</td>\n",
       "      <td>Feminino</td>\n",
       "      <td>29</td>\n",
       "      <td>4</td>\n",
       "      <td>115046.74</td>\n",
       "      <td>4</td>\n",
       "      <td>1</td>\n",
       "      <td>0</td>\n",
       "      <td>4972.786667</td>\n",
       "      <td>1</td>\n",
       "    </tr>\n",
       "    <tr>\n",
       "      <th>8</th>\n",
       "      <td>501</td>\n",
       "      <td>São Paulo</td>\n",
       "      <td>Masculino</td>\n",
       "      <td>44</td>\n",
       "      <td>4</td>\n",
       "      <td>142051.07</td>\n",
       "      <td>2</td>\n",
       "      <td>0</td>\n",
       "      <td>1</td>\n",
       "      <td>3122.520833</td>\n",
       "      <td>0</td>\n",
       "    </tr>\n",
       "    <tr>\n",
       "      <th>9</th>\n",
       "      <td>684</td>\n",
       "      <td>São Paulo</td>\n",
       "      <td>Masculino</td>\n",
       "      <td>27</td>\n",
       "      <td>2</td>\n",
       "      <td>134603.88</td>\n",
       "      <td>1</td>\n",
       "      <td>1</td>\n",
       "      <td>1</td>\n",
       "      <td>2988.572083</td>\n",
       "      <td>0</td>\n",
       "    </tr>\n",
       "  </tbody>\n",
       "</table>\n",
       "</div>"
      ],
      "text/plain": [
       "   Score Crédito          Estado     Gênero  Idade  \\\n",
       "0            619       São Paulo   Feminino     42   \n",
       "1            608  Rio de Janeiro   Feminino     41   \n",
       "2            502       São Paulo   Feminino     42   \n",
       "3            699       São Paulo   Feminino     39   \n",
       "4            850  Rio de Janeiro   Feminino     43   \n",
       "5            645  Rio de Janeiro  Masculino     44   \n",
       "6            822       São Paulo  Masculino     50   \n",
       "7            376    Minas Gerais   Feminino     29   \n",
       "8            501       São Paulo  Masculino     44   \n",
       "9            684       São Paulo  Masculino     27   \n",
       "\n",
       "   Tempo como cliente (meses)      Saldo  Número de produtos  \\\n",
       "0                           2       0.00                   1   \n",
       "1                           1   83807.86                   1   \n",
       "2                           8  159660.80                   3   \n",
       "3                           1       0.00                   2   \n",
       "4                           2  125510.82                   1   \n",
       "5                           8  113755.78                   2   \n",
       "6                           7       0.00                   2   \n",
       "7                           4  115046.74                   4   \n",
       "8                           4  142051.07                   2   \n",
       "9                           2  134603.88                   1   \n",
       "\n",
       "   Possui Cartao de Crédito  Assina mensalidade  Renda Mensal Presumida (R$)  \\\n",
       "0                         1                   1                  4222.870000   \n",
       "1                         0                   1                  4689.274167   \n",
       "2                         1                   0                  4747.148750   \n",
       "3                         0                   0                  3909.442917   \n",
       "4                         1                   1                  3295.170833   \n",
       "5                         1                   0                  6239.862917   \n",
       "6                         1                   1                   419.283333   \n",
       "7                         1                   0                  4972.786667   \n",
       "8                         0                   1                  3122.520833   \n",
       "9                         1                   1                  2988.572083   \n",
       "\n",
       "   Churn_2_meses  \n",
       "0              1  \n",
       "1              0  \n",
       "2              1  \n",
       "3              0  \n",
       "4              0  \n",
       "5              1  \n",
       "6              0  \n",
       "7              1  \n",
       "8              0  \n",
       "9              0  "
      ]
     },
     "execution_count": 2,
     "metadata": {},
     "output_type": "execute_result"
    }
   ],
   "source": [
    "##IMPORTANDO ARQUIVOS\n",
    "df= pd.read_csv('dataset_churn.csv')\n",
    "df.head(10) #visualizando as 10 primeiras linhas do dataset"
   ]
  },
  {
   "cell_type": "markdown",
   "metadata": {},
   "source": [
    "## **1.Análise Exploratória dos dados**"
   ]
  },
  {
   "cell_type": "markdown",
   "metadata": {},
   "source": [
    "*Identificando as variáveis presentes no dataset*"
   ]
  },
  {
   "cell_type": "code",
   "execution_count": 3,
   "metadata": {},
   "outputs": [
    {
     "name": "stdout",
     "output_type": "stream",
     "text": [
      "<class 'pandas.core.frame.DataFrame'>\n",
      "RangeIndex: 10000 entries, 0 to 9999\n",
      "Data columns (total 11 columns):\n",
      " #   Column                       Non-Null Count  Dtype  \n",
      "---  ------                       --------------  -----  \n",
      " 0   Score Crédito                10000 non-null  int64  \n",
      " 1   Estado                       10000 non-null  object \n",
      " 2   Gênero                       10000 non-null  object \n",
      " 3   Idade                        10000 non-null  int64  \n",
      " 4   Tempo como cliente (meses)   10000 non-null  int64  \n",
      " 5   Saldo                        10000 non-null  float64\n",
      " 6   Número de produtos           10000 non-null  int64  \n",
      " 7   Possui Cartao de Crédito     10000 non-null  int64  \n",
      " 8   Assina mensalidade           10000 non-null  int64  \n",
      " 9   Renda Mensal Presumida (R$)  10000 non-null  float64\n",
      " 10  Churn_2_meses                10000 non-null  int64  \n",
      "dtypes: float64(2), int64(7), object(2)\n",
      "memory usage: 859.5+ KB\n"
     ]
    }
   ],
   "source": [
    "pd.DataFrame.info(df);"
   ]
  },
  {
   "cell_type": "markdown",
   "metadata": {},
   "source": [
    "Observamos que temos 10 variáveis e 10000 observações no dataset\n",
    "\n",
    "* **Variáveis categóricas:** Gênero, Estado, Possui Cartao de Crédito, Assina mensalidade e Churn_2_meses.\n",
    "* **Variáveis numéricas:** Score Crédito, idade, Tempo como cliente (meses), Saldo, Número de produtos, Renda Mensal Presumida (R$).\n",
    "\n",
    "**Identificando a variável alvo**: Churn_2_meses\n"
   ]
  },
  {
   "cell_type": "code",
   "execution_count": 4,
   "metadata": {},
   "outputs": [
    {
     "data": {
      "text/html": [
       "<div>\n",
       "<style scoped>\n",
       "    .dataframe tbody tr th:only-of-type {\n",
       "        vertical-align: middle;\n",
       "    }\n",
       "\n",
       "    .dataframe tbody tr th {\n",
       "        vertical-align: top;\n",
       "    }\n",
       "\n",
       "    .dataframe thead th {\n",
       "        text-align: right;\n",
       "    }\n",
       "</style>\n",
       "<table border=\"1\" class=\"dataframe\">\n",
       "  <thead>\n",
       "    <tr style=\"text-align: right;\">\n",
       "      <th></th>\n",
       "      <th>Score Crédito</th>\n",
       "      <th>Idade</th>\n",
       "      <th>Tempo como cliente (meses)</th>\n",
       "      <th>Saldo</th>\n",
       "      <th>Número de produtos</th>\n",
       "      <th>Possui Cartao de Crédito</th>\n",
       "      <th>Assina mensalidade</th>\n",
       "      <th>Renda Mensal Presumida (R$)</th>\n",
       "      <th>Churn_2_meses</th>\n",
       "    </tr>\n",
       "  </thead>\n",
       "  <tbody>\n",
       "    <tr>\n",
       "      <th>count</th>\n",
       "      <td>10000.000000</td>\n",
       "      <td>10000.000000</td>\n",
       "      <td>10000.000000</td>\n",
       "      <td>10000.000000</td>\n",
       "      <td>10000.000000</td>\n",
       "      <td>10000.00000</td>\n",
       "      <td>10000.000000</td>\n",
       "      <td>10000.000000</td>\n",
       "      <td>10000.000000</td>\n",
       "    </tr>\n",
       "    <tr>\n",
       "      <th>mean</th>\n",
       "      <td>650.528800</td>\n",
       "      <td>38.921800</td>\n",
       "      <td>5.012800</td>\n",
       "      <td>76485.889288</td>\n",
       "      <td>1.530200</td>\n",
       "      <td>0.70550</td>\n",
       "      <td>0.515100</td>\n",
       "      <td>4170.426662</td>\n",
       "      <td>0.203700</td>\n",
       "    </tr>\n",
       "    <tr>\n",
       "      <th>std</th>\n",
       "      <td>96.653299</td>\n",
       "      <td>10.487806</td>\n",
       "      <td>2.892174</td>\n",
       "      <td>62397.405202</td>\n",
       "      <td>0.581654</td>\n",
       "      <td>0.45584</td>\n",
       "      <td>0.499797</td>\n",
       "      <td>2396.270534</td>\n",
       "      <td>0.402769</td>\n",
       "    </tr>\n",
       "    <tr>\n",
       "      <th>min</th>\n",
       "      <td>350.000000</td>\n",
       "      <td>18.000000</td>\n",
       "      <td>0.000000</td>\n",
       "      <td>0.000000</td>\n",
       "      <td>1.000000</td>\n",
       "      <td>0.00000</td>\n",
       "      <td>0.000000</td>\n",
       "      <td>0.482500</td>\n",
       "      <td>0.000000</td>\n",
       "    </tr>\n",
       "    <tr>\n",
       "      <th>25%</th>\n",
       "      <td>584.000000</td>\n",
       "      <td>32.000000</td>\n",
       "      <td>3.000000</td>\n",
       "      <td>0.000000</td>\n",
       "      <td>1.000000</td>\n",
       "      <td>0.00000</td>\n",
       "      <td>0.000000</td>\n",
       "      <td>2125.087917</td>\n",
       "      <td>0.000000</td>\n",
       "    </tr>\n",
       "    <tr>\n",
       "      <th>50%</th>\n",
       "      <td>652.000000</td>\n",
       "      <td>37.000000</td>\n",
       "      <td>5.000000</td>\n",
       "      <td>97198.540000</td>\n",
       "      <td>1.000000</td>\n",
       "      <td>1.00000</td>\n",
       "      <td>1.000000</td>\n",
       "      <td>4174.746458</td>\n",
       "      <td>0.000000</td>\n",
       "    </tr>\n",
       "    <tr>\n",
       "      <th>75%</th>\n",
       "      <td>718.000000</td>\n",
       "      <td>44.000000</td>\n",
       "      <td>7.000000</td>\n",
       "      <td>127644.240000</td>\n",
       "      <td>2.000000</td>\n",
       "      <td>1.00000</td>\n",
       "      <td>1.000000</td>\n",
       "      <td>6224.510312</td>\n",
       "      <td>0.000000</td>\n",
       "    </tr>\n",
       "    <tr>\n",
       "      <th>max</th>\n",
       "      <td>850.000000</td>\n",
       "      <td>92.000000</td>\n",
       "      <td>10.000000</td>\n",
       "      <td>250898.090000</td>\n",
       "      <td>4.000000</td>\n",
       "      <td>1.00000</td>\n",
       "      <td>1.000000</td>\n",
       "      <td>8333.020000</td>\n",
       "      <td>1.000000</td>\n",
       "    </tr>\n",
       "  </tbody>\n",
       "</table>\n",
       "</div>"
      ],
      "text/plain": [
       "       Score Crédito         Idade  Tempo como cliente (meses)          Saldo  \\\n",
       "count   10000.000000  10000.000000                10000.000000   10000.000000   \n",
       "mean      650.528800     38.921800                    5.012800   76485.889288   \n",
       "std        96.653299     10.487806                    2.892174   62397.405202   \n",
       "min       350.000000     18.000000                    0.000000       0.000000   \n",
       "25%       584.000000     32.000000                    3.000000       0.000000   \n",
       "50%       652.000000     37.000000                    5.000000   97198.540000   \n",
       "75%       718.000000     44.000000                    7.000000  127644.240000   \n",
       "max       850.000000     92.000000                   10.000000  250898.090000   \n",
       "\n",
       "       Número de produtos  Possui Cartao de Crédito  Assina mensalidade  \\\n",
       "count        10000.000000               10000.00000        10000.000000   \n",
       "mean             1.530200                   0.70550            0.515100   \n",
       "std              0.581654                   0.45584            0.499797   \n",
       "min              1.000000                   0.00000            0.000000   \n",
       "25%              1.000000                   0.00000            0.000000   \n",
       "50%              1.000000                   1.00000            1.000000   \n",
       "75%              2.000000                   1.00000            1.000000   \n",
       "max              4.000000                   1.00000            1.000000   \n",
       "\n",
       "       Renda Mensal Presumida (R$)  Churn_2_meses  \n",
       "count                 10000.000000   10000.000000  \n",
       "mean                   4170.426662       0.203700  \n",
       "std                    2396.270534       0.402769  \n",
       "min                       0.482500       0.000000  \n",
       "25%                    2125.087917       0.000000  \n",
       "50%                    4174.746458       0.000000  \n",
       "75%                    6224.510312       0.000000  \n",
       "max                    8333.020000       1.000000  "
      ]
     },
     "execution_count": 4,
     "metadata": {},
     "output_type": "execute_result"
    }
   ],
   "source": [
    "df.describe()"
   ]
  },
  {
   "cell_type": "markdown",
   "metadata": {},
   "source": [
    "Os clientes, dessa agência bancária, têm em média 39 anos, sendo a idade mínima de 18 anos e máxima de 92 anos. \n",
    "A pontuação de crédito fica em torno de 650 pontos e o índice médio de tempo com o cliente é de 5 meses. \n",
    "\n",
    "70% dos clientes possuem cartão de crédito e apenas 51% fzem assinatura mensal.\n",
    "\n",
    "Analisando a variável de Churn, observa-se que 20% dos clientes romperam seu contrato\n"
   ]
  },
  {
   "cell_type": "markdown",
   "metadata": {},
   "source": [
    "#### Distribuição das variáveis"
   ]
  },
  {
   "cell_type": "code",
   "execution_count": 5,
   "metadata": {
    "scrolled": true
   },
   "outputs": [
    {
     "data": {
      "image/png": "[encoded data removed]",
      "text/plain": [
       "<Figure size 864x720 with 9 Axes>"
      ]
     },
     "metadata": {
      "needs_background": "light"
     },
     "output_type": "display_data"
    }
   ],
   "source": [
    "df.hist(figsize=(12,10));"
   ]
  },
  {
   "cell_type": "markdown",
   "metadata": {},
   "source": [
    "A maioria dos clientes têm entre 30 a 45 anos e poucos clientes têm idade superior a 60 anos."
   ]
  },
  {
   "cell_type": "code",
   "execution_count": 6,
   "metadata": {},
   "outputs": [],
   "source": [
    "df_EDA = df.copy()"
   ]
  },
  {
   "cell_type": "code",
   "execution_count": 7,
   "metadata": {},
   "outputs": [],
   "source": [
    "df_EDA['Churn_2_meses_categ']=df_EDA['Churn_2_meses'].replace([0,1],['Não','Sim'])\n",
    "x_cont=['Score Crédito','Saldo','Idade','Renda Mensal Presumida (R$)','Tempo como cliente (meses)', 'Número de produtos']"
   ]
  },
  {
   "cell_type": "code",
   "execution_count": 8,
   "metadata": {},
   "outputs": [
    {
     "data": {
      "image/png": "[encoded data removed]",
      "text/plain": [
       "<Figure size 1584x432 with 6 Axes>"
      ]
     },
     "metadata": {
      "needs_background": "light"
     },
     "output_type": "display_data"
    }
   ],
   "source": [
    "fig, ax = plt.subplots(1, 6, figsize=(22, 6));\n",
    "df_EDA[df_EDA['Churn_2_meses_categ'] == \"Não\"][x_cont].hist( bins=30, color=\"blue\", alpha=0.5, ax=ax);\n",
    "df_EDA[df_EDA['Churn_2_meses_categ'] == \"Sim\"][x_cont].hist( bins=30, color=\"red\", alpha=0.5, ax=ax);"
   ]
  },
  {
   "cell_type": "markdown",
   "metadata": {},
   "source": [
    "Observar-se que o churn é maior em pessoas com mais de 45 anos e quanto maior o número de produtos bancários, maior a taxa de churn"
   ]
  },
  {
   "cell_type": "code",
   "execution_count": 9,
   "metadata": {},
   "outputs": [],
   "source": [
    "cols= ['#FF6347', '#B0E0E6','#D8BFD8']"
   ]
  },
  {
   "cell_type": "code",
   "execution_count": 10,
   "metadata": {},
   "outputs": [
    {
     "data": {
      "image/png": "[encoded data removed]",
      "text/plain": [
       "<Figure size 432x288 with 1 Axes>"
      ]
     },
     "metadata": {
      "needs_background": "light"
     },
     "output_type": "display_data"
    }
   ],
   "source": [
    "sns.countplot(data=df_EDA,x='Churn_2_meses',palette=cols);"
   ]
  },
  {
   "cell_type": "markdown",
   "metadata": {},
   "source": [
    "20% dos clientes deram churn. Existindo um desbalanceamento na variável target"
   ]
  },
  {
   "cell_type": "code",
   "execution_count": 11,
   "metadata": {},
   "outputs": [
    {
     "data": {
      "image/png": "[encoded data removed]",
      "text/plain": [
       "<Figure size 432x288 with 1 Axes>"
      ]
     },
     "metadata": {
      "needs_background": "light"
     },
     "output_type": "display_data"
    }
   ],
   "source": [
    "df_plot = df_EDA.groupby (['Gênero'])['Churn_2_meses'].mean (). reset_index () \n",
    "x =df_plot['Gênero']\n",
    "y=df_plot['Churn_2_meses']\n",
    "plt.bar(x,y,color=cols);\n",
    "plt.title('Taxa de Churn em relação ao Sexo');\n",
    "plt.xlabel('Gênero');\n",
    "plt.ylabel('Taxa de Churn');"
   ]
  },
  {
   "cell_type": "markdown",
   "metadata": {},
   "source": [
    "Observa-se que as mulheres têm um risco maior de Churn do que os homens."
   ]
  },
  {
   "cell_type": "code",
   "execution_count": 12,
   "metadata": {},
   "outputs": [
    {
     "data": {
      "image/png": "[encoded data removed]",
      "text/plain": [
       "<Figure size 432x288 with 1 Axes>"
      ]
     },
     "metadata": {
      "needs_background": "light"
     },
     "output_type": "display_data"
    }
   ],
   "source": [
    "df_plot = df_EDA.groupby (['Estado'])['Churn_2_meses'].mean (). reset_index () \n",
    "x = df_plot['Estado']\n",
    "y = df_plot['Churn_2_meses']\n",
    "plt.bar(x,y,color=cols);\n",
    "plt.title('Taxa de Churn por Estados');\n",
    "plt.xlabel('Estados');\n",
    "plt.ylabel('Taxa de Churn');"
   ]
  },
  {
   "cell_type": "markdown",
   "metadata": {},
   "source": [
    "Observa-se que a porcentagem de Churn em Minas gerais é bastante elevada, onde 32% dos clientes deram churn."
   ]
  },
  {
   "cell_type": "code",
   "execution_count": 13,
   "metadata": {},
   "outputs": [
    {
     "data": {
      "image/png": "[encoded data removed]",
      "text/plain": [
       "<Figure size 432x288 with 1 Axes>"
      ]
     },
     "metadata": {
      "needs_background": "light"
     },
     "output_type": "display_data"
    }
   ],
   "source": [
    "df_EDA['Possui Cartao de Crédito']=df['Possui Cartao de Crédito'].replace([0,1],['Não','Sim'])\n",
    "df_plot = df_EDA.groupby (['Possui Cartao de Crédito'])['Churn_2_meses'].mean (). reset_index ()\n",
    "x =df_plot['Possui Cartao de Crédito']\n",
    "y=df_plot['Churn_2_meses']\n",
    "plt.bar(x,y,color=cols);\n",
    "plt.title('Taxa de Churn  para cliente que Possui Cartao de Crédito');\n",
    "plt.xlabel('Possui Cartao de Crédito');\n",
    "plt.ylabel('Taxa de Churn');"
   ]
  },
  {
   "cell_type": "markdown",
   "metadata": {},
   "source": [
    "Observe que o cliente ter ou não cartão de crédito parece não influenciar no Churn."
   ]
  },
  {
   "cell_type": "code",
   "execution_count": 14,
   "metadata": {},
   "outputs": [
    {
     "data": {
      "image/png": "[encoded data removed]",
      "text/plain": [
       "<Figure size 432x288 with 1 Axes>"
      ]
     },
     "metadata": {
      "needs_background": "light"
     },
     "output_type": "display_data"
    }
   ],
   "source": [
    "df_EDA['Assina mensalidade']=df_EDA['Assina mensalidade'].replace([0,1],['Não','Sim'])\n",
    "df_plot = df_EDA.groupby (['Assina mensalidade'])['Churn_2_meses'].mean (). reset_index ()\n",
    "x =df_plot['Assina mensalidade']\n",
    "y=df_plot['Churn_2_meses']\n",
    "plt.bar(x,y,color=cols);\n",
    "plt.title('Taxa de Churn em relação a assinatura');\n",
    "plt.xlabel('Assinatura');\n",
    "plt.ylabel('Taxa de Churn');"
   ]
  },
  {
   "cell_type": "code",
   "execution_count": 15,
   "metadata": {},
   "outputs": [
    {
     "data": {
      "text/plain": [
       "Index(['Score Crédito', 'Estado', 'Gênero', 'Idade',\n",
       "       'Tempo como cliente (meses)', 'Saldo', 'Número de produtos',\n",
       "       'Possui Cartao de Crédito', 'Assina mensalidade',\n",
       "       'Renda Mensal Presumida (R$)', 'Churn_2_meses'],\n",
       "      dtype='object')"
      ]
     },
     "execution_count": 15,
     "metadata": {},
     "output_type": "execute_result"
    }
   ],
   "source": [
    "df.columns"
   ]
  },
  {
   "cell_type": "code",
   "execution_count": 16,
   "metadata": {
    "colab": {
     "base_uri": "https://localhost:8080/",
     "height": 419
    },
    "id": "qOPpW0LxJTqA",
    "outputId": "4b0d58e2-7ace-4ec6-8004-cfe529cc6fc6",
    "scrolled": false
   },
   "outputs": [],
   "source": [
    "df_cont=df_EDA[['Idade','Saldo','Tempo como cliente (meses)','Número de produtos','Renda Mensal Presumida (R$)']]"
   ]
  },
  {
   "cell_type": "markdown",
   "metadata": {
    "id": "d-NqDd32KQXc"
   },
   "source": [
    "* **Matriz de Correlação**"
   ]
  },
  {
   "cell_type": "code",
   "execution_count": 17,
   "metadata": {
    "colab": {
     "base_uri": "https://localhost:8080/",
     "height": 341
    },
    "id": "UvvQBh4uihuD",
    "outputId": "7f02f47d-d0ca-43ef-bc66-8c0631c8bb81",
    "scrolled": true
   },
   "outputs": [
    {
     "data": {
      "image/png": "[encoded data removed]",
      "text/plain": [
       "<Figure size 432x288 with 2 Axes>"
      ]
     },
     "metadata": {
      "needs_background": "light"
     },
     "output_type": "display_data"
    }
   ],
   "source": [
    "sns.heatmap(df_cont.corr(),annot = True,\n",
    "            cmap='Blues');"
   ]
  },
  {
   "cell_type": "markdown",
   "metadata": {},
   "source": [
    "Analisando a correlação entre as variáveis, observa-se que temos baixas correlações."
   ]
  },
  {
   "cell_type": "code",
   "execution_count": 18,
   "metadata": {
    "colab": {
     "base_uri": "https://localhost:8080/",
     "height": 173
    },
    "id": "UbE2oVl2VFOi",
    "outputId": "52af4d00-b009-4d71-95d0-ff8ff88cb35c"
   },
   "outputs": [
    {
     "data": {
      "image/png": "[encoded data removed]",
      "text/plain": [
       "<Figure size 432x288 with 1 Axes>"
      ]
     },
     "metadata": {
      "needs_background": "light"
     },
     "output_type": "display_data"
    }
   ],
   "source": [
    "df_plot = df_EDA.groupby(['Número de produtos'])['Churn_2_meses'].mean().reset_index ()\n",
    "x = df_plot['Número de produtos']\n",
    "y = df_plot['Churn_2_meses']\n",
    "plt.bar(x,y);\n",
    "plt.title('Taxa de Churn em relação ao Número de Produtos');\n",
    "plt.xlabel('Números de produtos');\n",
    "plt.ylabel('Taxa de Churn');\n",
    "plt.xticks(x, (1,2,3,4));"
   ]
  },
  {
   "cell_type": "markdown",
   "metadata": {},
   "source": [
    "Quanto maior o número de produtos maior a taxa de Churn."
   ]
  },
  {
   "cell_type": "code",
   "execution_count": 19,
   "metadata": {},
   "outputs": [
    {
     "data": {
      "image/png": "[encoded data removed]",
      "text/plain": [
       "<Figure size 432x288 with 1 Axes>"
      ]
     },
     "metadata": {
      "needs_background": "light"
     },
     "output_type": "display_data"
    }
   ],
   "source": [
    "df_plot = df_EDA.groupby(['Tempo como cliente (meses)'])['Churn_2_meses'].mean().reset_index ()\n",
    "#Número de produtos em relação a variável churn\n",
    "x =df_plot['Tempo como cliente (meses)']\n",
    "y=df_plot['Churn_2_meses']\n",
    "plt.bar(x,y);\n",
    "plt.title('Taxa de Churn em relação ao Tempo como cliente');\n",
    "plt.xlabel('Tempo como cliente');\n",
    "plt.ylabel('Taxa de Churn');\n",
    "plt.xticks(x, (0,1,2,3,4,5,6,7,8,9,10));"
   ]
  },
  {
   "cell_type": "code",
   "execution_count": 20,
   "metadata": {
    "scrolled": false
   },
   "outputs": [
    {
     "data": {
      "image/png": "[encoded data removed]",
      "text/plain": [
       "<Figure size 432x288 with 1 Axes>"
      ]
     },
     "metadata": {
      "needs_background": "light"
     },
     "output_type": "display_data"
    }
   ],
   "source": [
    "sns.boxplot(x='Churn_2_meses_categ', y='Saldo', data=df_EDA,palette=cols);\n",
    "plt.title('Box-plot da variável Saldo bancário');\n",
    "plt.xlabel('Variável Churn');\n",
    "plt.ylabel('Saldo Bancário');"
   ]
  },
  {
   "cell_type": "code",
   "execution_count": 21,
   "metadata": {
    "colab": {
     "base_uri": "https://localhost:8080/",
     "height": 279
    },
    "id": "5uey6B-wtMz-",
    "outputId": "aaf93453-7e01-41ef-f5cd-c43c71e7ac45",
    "scrolled": false
   },
   "outputs": [
    {
     "data": {
      "image/png": "[encoded data removed]",
      "text/plain": [
       "<Figure size 432x288 with 1 Axes>"
      ]
     },
     "metadata": {
      "needs_background": "light"
     },
     "output_type": "display_data"
    }
   ],
   "source": [
    "sns.boxplot(x='Churn_2_meses_categ', y='Renda Mensal Presumida (R$)' , data=df_EDA,palette=cols);\n",
    "plt.xlabel('Churn');\n",
    "plt.ylabel('Renda Mensal Presumida (R$)');"
   ]
  },
  {
   "cell_type": "markdown",
   "metadata": {
    "id": "3kCFHFa2lLCv"
   },
   "source": [
    "O salário estimado parece não influenciar no cancelamento ou não do serviço bancário."
   ]
  },
  {
   "cell_type": "code",
   "execution_count": 22,
   "metadata": {
    "colab": {
     "base_uri": "https://localhost:8080/",
     "height": 312
    },
    "id": "Bz5bjFMsbTAw",
    "outputId": "59f21dea-2257-4bc6-b4aa-35a7807ff995"
   },
   "outputs": [
    {
     "data": {
      "text/plain": [
       "Text(0, 0.5, 'Taxa de Churn')"
      ]
     },
     "execution_count": 22,
     "metadata": {},
     "output_type": "execute_result"
    },
    {
     "data": {
      "image/png": "[encoded data removed]",
      "text/plain": [
       "<Figure size 432x288 with 1 Axes>"
      ]
     },
     "metadata": {
      "needs_background": "light"
     },
     "output_type": "display_data"
    }
   ],
   "source": [
    "df_plot = df_EDA.groupby(['Idade'])['Churn_2_meses'].mean().reset_index ()\n",
    "x = df_plot['Idade']\n",
    "y = df_plot['Churn_2_meses']\n",
    "plt.scatter(x,y);\n",
    "plt.title('Taxa de Churn em relação a Idade')\n",
    "plt.xlabel('Idade')\n",
    "plt.ylabel('Taxa de Churn')"
   ]
  },
  {
   "cell_type": "code",
   "execution_count": 23,
   "metadata": {},
   "outputs": [
    {
     "data": {
      "image/png": "[encoded data removed]",
      "text/plain": [
       "<Figure size 432x288 with 1 Axes>"
      ]
     },
     "metadata": {
      "needs_background": "light"
     },
     "output_type": "display_data"
    }
   ],
   "source": [
    "sns.boxplot(x='Churn_2_meses_categ', y='Idade' , data=df_EDA,palette=cols);\n",
    "plt.xlabel('Churn');\n",
    "plt.ylabel('Idade');"
   ]
  },
  {
   "cell_type": "markdown",
   "metadata": {},
   "source": [
    "Observa-se, pelo boxplot, que clientes que cancelaram o serviço têm uma idade maior do que os clientes que não cancelaram o serviço. Pelo gráfico de dispersão,observa-se que pessoas entre 45 e 65 anos tem uma alta taxa de Churn"
   ]
  },
  {
   "cell_type": "code",
   "execution_count": 24,
   "metadata": {},
   "outputs": [
    {
     "data": {
      "image/png": "[encoded data removed]",
      "text/plain": [
       "<Figure size 432x288 with 1 Axes>"
      ]
     },
     "metadata": {
      "needs_background": "light"
     },
     "output_type": "display_data"
    }
   ],
   "source": [
    "sns.boxplot(x='Churn_2_meses_categ', y='Score Crédito' , data=df_EDA,palette=cols);\n",
    "plt.xlabel('Churn');\n",
    "plt.ylabel('Score de crédito');"
   ]
  },
  {
   "cell_type": "code",
   "execution_count": 25,
   "metadata": {},
   "outputs": [
    {
     "data": {
      "text/plain": [
       "Text(0, 0.5, 'Taxa de Churn')"
      ]
     },
     "execution_count": 25,
     "metadata": {},
     "output_type": "execute_result"
    },
    {
     "data": {
      "image/png": "[encoded data removed]",
      "text/plain": [
       "<Figure size 432x288 with 1 Axes>"
      ]
     },
     "metadata": {
      "needs_background": "light"
     },
     "output_type": "display_data"
    }
   ],
   "source": [
    "df_plot = df.groupby (['Score Crédito'])['Churn_2_meses'].mean (). reset_index () \n",
    "x =df_plot['Score Crédito']\n",
    "y=df_plot['Churn_2_meses']\n",
    "plt.scatter(x,y)\n",
    "plt.title('Taxa de Churn em relação ao Score de Crédito')\n",
    "plt.xlabel('Score de Crédito')\n",
    "plt.ylabel('Taxa de Churn')"
   ]
  },
  {
   "cell_type": "markdown",
   "metadata": {},
   "source": [
    "A taxa de Churn é maior entre os clientes com baixo escore de crédito. "
   ]
  },
  {
   "cell_type": "markdown",
   "metadata": {},
   "source": [
    "### Conclusão análise exploratória"
   ]
  },
  {
   "cell_type": "markdown",
   "metadata": {},
   "source": [
    "Observa-se que clientes de Minas Gerais, do sexo feminino, com alto número de produtos, score de crédito baixo, com saldo bancário elevado e com idade entre 45 e 65 anos têm uma taxa de Churn maior que os outros clientes."
   ]
  },
  {
   "cell_type": "markdown",
   "metadata": {},
   "source": [
    "## **2.Tratamentos dos dados.**"
   ]
  },
  {
   "cell_type": "code",
   "execution_count": 26,
   "metadata": {},
   "outputs": [
    {
     "data": {
      "text/plain": [
       "Score Crédito                  0\n",
       "Estado                         0\n",
       "Gênero                         0\n",
       "Idade                          0\n",
       "Tempo como cliente (meses)     0\n",
       "Saldo                          0\n",
       "Número de produtos             0\n",
       "Possui Cartao de Crédito       0\n",
       "Assina mensalidade             0\n",
       "Renda Mensal Presumida (R$)    0\n",
       "Churn_2_meses                  0\n",
       "dtype: int64"
      ]
     },
     "execution_count": 26,
     "metadata": {},
     "output_type": "execute_result"
    }
   ],
   "source": [
    "df.isnull().sum()"
   ]
  },
  {
   "cell_type": "code",
   "execution_count": 27,
   "metadata": {},
   "outputs": [],
   "source": [
    "#Separando o dataset\n",
    "y = df['Churn_2_meses']\n",
    "X = df.drop('Churn_2_meses',axis = 1)"
   ]
  },
  {
   "cell_type": "code",
   "execution_count": 28,
   "metadata": {},
   "outputs": [
    {
     "data": {
      "text/html": [
       "<div>\n",
       "<style scoped>\n",
       "    .dataframe tbody tr th:only-of-type {\n",
       "        vertical-align: middle;\n",
       "    }\n",
       "\n",
       "    .dataframe tbody tr th {\n",
       "        vertical-align: top;\n",
       "    }\n",
       "\n",
       "    .dataframe thead th {\n",
       "        text-align: right;\n",
       "    }\n",
       "</style>\n",
       "<table border=\"1\" class=\"dataframe\">\n",
       "  <thead>\n",
       "    <tr style=\"text-align: right;\">\n",
       "      <th></th>\n",
       "      <th>Assina mensalidade</th>\n",
       "      <th>Estado</th>\n",
       "      <th>Possui Cartao de Crédito</th>\n",
       "      <th>Número de produtos</th>\n",
       "      <th>Gênero</th>\n",
       "    </tr>\n",
       "  </thead>\n",
       "  <tbody>\n",
       "    <tr>\n",
       "      <th>0</th>\n",
       "      <td>1</td>\n",
       "      <td>São Paulo</td>\n",
       "      <td>1</td>\n",
       "      <td>1</td>\n",
       "      <td>Feminino</td>\n",
       "    </tr>\n",
       "    <tr>\n",
       "      <th>1</th>\n",
       "      <td>1</td>\n",
       "      <td>Rio de Janeiro</td>\n",
       "      <td>0</td>\n",
       "      <td>1</td>\n",
       "      <td>Feminino</td>\n",
       "    </tr>\n",
       "    <tr>\n",
       "      <th>2</th>\n",
       "      <td>0</td>\n",
       "      <td>São Paulo</td>\n",
       "      <td>1</td>\n",
       "      <td>3</td>\n",
       "      <td>Feminino</td>\n",
       "    </tr>\n",
       "    <tr>\n",
       "      <th>3</th>\n",
       "      <td>0</td>\n",
       "      <td>São Paulo</td>\n",
       "      <td>0</td>\n",
       "      <td>2</td>\n",
       "      <td>Feminino</td>\n",
       "    </tr>\n",
       "    <tr>\n",
       "      <th>4</th>\n",
       "      <td>1</td>\n",
       "      <td>Rio de Janeiro</td>\n",
       "      <td>1</td>\n",
       "      <td>1</td>\n",
       "      <td>Feminino</td>\n",
       "    </tr>\n",
       "    <tr>\n",
       "      <th>...</th>\n",
       "      <td>...</td>\n",
       "      <td>...</td>\n",
       "      <td>...</td>\n",
       "      <td>...</td>\n",
       "      <td>...</td>\n",
       "    </tr>\n",
       "    <tr>\n",
       "      <th>9995</th>\n",
       "      <td>0</td>\n",
       "      <td>São Paulo</td>\n",
       "      <td>1</td>\n",
       "      <td>2</td>\n",
       "      <td>Masculino</td>\n",
       "    </tr>\n",
       "    <tr>\n",
       "      <th>9996</th>\n",
       "      <td>1</td>\n",
       "      <td>São Paulo</td>\n",
       "      <td>1</td>\n",
       "      <td>1</td>\n",
       "      <td>Masculino</td>\n",
       "    </tr>\n",
       "    <tr>\n",
       "      <th>9997</th>\n",
       "      <td>1</td>\n",
       "      <td>São Paulo</td>\n",
       "      <td>0</td>\n",
       "      <td>1</td>\n",
       "      <td>Feminino</td>\n",
       "    </tr>\n",
       "    <tr>\n",
       "      <th>9998</th>\n",
       "      <td>0</td>\n",
       "      <td>Minas Gerais</td>\n",
       "      <td>1</td>\n",
       "      <td>2</td>\n",
       "      <td>Masculino</td>\n",
       "    </tr>\n",
       "    <tr>\n",
       "      <th>9999</th>\n",
       "      <td>0</td>\n",
       "      <td>São Paulo</td>\n",
       "      <td>1</td>\n",
       "      <td>1</td>\n",
       "      <td>Feminino</td>\n",
       "    </tr>\n",
       "  </tbody>\n",
       "</table>\n",
       "<p>10000 rows × 5 columns</p>\n",
       "</div>"
      ],
      "text/plain": [
       "      Assina mensalidade          Estado  Possui Cartao de Crédito  \\\n",
       "0                      1       São Paulo                         1   \n",
       "1                      1  Rio de Janeiro                         0   \n",
       "2                      0       São Paulo                         1   \n",
       "3                      0       São Paulo                         0   \n",
       "4                      1  Rio de Janeiro                         1   \n",
       "...                  ...             ...                       ...   \n",
       "9995                   0       São Paulo                         1   \n",
       "9996                   1       São Paulo                         1   \n",
       "9997                   1       São Paulo                         0   \n",
       "9998                   0    Minas Gerais                         1   \n",
       "9999                   0       São Paulo                         1   \n",
       "\n",
       "      Número de produtos     Gênero  \n",
       "0                      1   Feminino  \n",
       "1                      1   Feminino  \n",
       "2                      3   Feminino  \n",
       "3                      2   Feminino  \n",
       "4                      1   Feminino  \n",
       "...                  ...        ...  \n",
       "9995                   2  Masculino  \n",
       "9996                   1  Masculino  \n",
       "9997                   1   Feminino  \n",
       "9998                   2  Masculino  \n",
       "9999                   1   Feminino  \n",
       "\n",
       "[10000 rows x 5 columns]"
      ]
     },
     "execution_count": 28,
     "metadata": {},
     "output_type": "execute_result"
    }
   ],
   "source": [
    "#Separando variáveis categoricas\n",
    "x_continua = ['Score Crédito','Saldo','Idade','Renda Mensal Presumida (R$)','Tempo como cliente (meses)']\n",
    "x_categ = list(set(X)-set(x_continua))\n",
    "x_dummies=X[x_categ]\n",
    "x_dummies"
   ]
  },
  {
   "cell_type": "code",
   "execution_count": 29,
   "metadata": {},
   "outputs": [
    {
     "data": {
      "text/html": [
       "<div>\n",
       "<style scoped>\n",
       "    .dataframe tbody tr th:only-of-type {\n",
       "        vertical-align: middle;\n",
       "    }\n",
       "\n",
       "    .dataframe tbody tr th {\n",
       "        vertical-align: top;\n",
       "    }\n",
       "\n",
       "    .dataframe thead th {\n",
       "        text-align: right;\n",
       "    }\n",
       "</style>\n",
       "<table border=\"1\" class=\"dataframe\">\n",
       "  <thead>\n",
       "    <tr style=\"text-align: right;\">\n",
       "      <th></th>\n",
       "      <th>Score Crédito</th>\n",
       "      <th>Estado</th>\n",
       "      <th>Gênero</th>\n",
       "      <th>Idade</th>\n",
       "      <th>Tempo como cliente (meses)</th>\n",
       "      <th>Saldo</th>\n",
       "      <th>Número de produtos</th>\n",
       "      <th>Possui Cartao de Crédito</th>\n",
       "      <th>Assina mensalidade</th>\n",
       "      <th>Renda Mensal Presumida (R$)</th>\n",
       "    </tr>\n",
       "  </thead>\n",
       "  <tbody>\n",
       "    <tr>\n",
       "      <th>0</th>\n",
       "      <td>619</td>\n",
       "      <td>São Paulo</td>\n",
       "      <td>0</td>\n",
       "      <td>42</td>\n",
       "      <td>2</td>\n",
       "      <td>0.00</td>\n",
       "      <td>1</td>\n",
       "      <td>1</td>\n",
       "      <td>1</td>\n",
       "      <td>4222.870000</td>\n",
       "    </tr>\n",
       "    <tr>\n",
       "      <th>1</th>\n",
       "      <td>608</td>\n",
       "      <td>Rio de Janeiro</td>\n",
       "      <td>0</td>\n",
       "      <td>41</td>\n",
       "      <td>1</td>\n",
       "      <td>83807.86</td>\n",
       "      <td>1</td>\n",
       "      <td>0</td>\n",
       "      <td>1</td>\n",
       "      <td>4689.274167</td>\n",
       "    </tr>\n",
       "    <tr>\n",
       "      <th>2</th>\n",
       "      <td>502</td>\n",
       "      <td>São Paulo</td>\n",
       "      <td>0</td>\n",
       "      <td>42</td>\n",
       "      <td>8</td>\n",
       "      <td>159660.80</td>\n",
       "      <td>3</td>\n",
       "      <td>1</td>\n",
       "      <td>0</td>\n",
       "      <td>4747.148750</td>\n",
       "    </tr>\n",
       "    <tr>\n",
       "      <th>3</th>\n",
       "      <td>699</td>\n",
       "      <td>São Paulo</td>\n",
       "      <td>0</td>\n",
       "      <td>39</td>\n",
       "      <td>1</td>\n",
       "      <td>0.00</td>\n",
       "      <td>2</td>\n",
       "      <td>0</td>\n",
       "      <td>0</td>\n",
       "      <td>3909.442917</td>\n",
       "    </tr>\n",
       "    <tr>\n",
       "      <th>4</th>\n",
       "      <td>850</td>\n",
       "      <td>Rio de Janeiro</td>\n",
       "      <td>0</td>\n",
       "      <td>43</td>\n",
       "      <td>2</td>\n",
       "      <td>125510.82</td>\n",
       "      <td>1</td>\n",
       "      <td>1</td>\n",
       "      <td>1</td>\n",
       "      <td>3295.170833</td>\n",
       "    </tr>\n",
       "    <tr>\n",
       "      <th>5</th>\n",
       "      <td>645</td>\n",
       "      <td>Rio de Janeiro</td>\n",
       "      <td>1</td>\n",
       "      <td>44</td>\n",
       "      <td>8</td>\n",
       "      <td>113755.78</td>\n",
       "      <td>2</td>\n",
       "      <td>1</td>\n",
       "      <td>0</td>\n",
       "      <td>6239.862917</td>\n",
       "    </tr>\n",
       "    <tr>\n",
       "      <th>6</th>\n",
       "      <td>822</td>\n",
       "      <td>São Paulo</td>\n",
       "      <td>1</td>\n",
       "      <td>50</td>\n",
       "      <td>7</td>\n",
       "      <td>0.00</td>\n",
       "      <td>2</td>\n",
       "      <td>1</td>\n",
       "      <td>1</td>\n",
       "      <td>419.283333</td>\n",
       "    </tr>\n",
       "    <tr>\n",
       "      <th>7</th>\n",
       "      <td>376</td>\n",
       "      <td>Minas Gerais</td>\n",
       "      <td>0</td>\n",
       "      <td>29</td>\n",
       "      <td>4</td>\n",
       "      <td>115046.74</td>\n",
       "      <td>4</td>\n",
       "      <td>1</td>\n",
       "      <td>0</td>\n",
       "      <td>4972.786667</td>\n",
       "    </tr>\n",
       "    <tr>\n",
       "      <th>8</th>\n",
       "      <td>501</td>\n",
       "      <td>São Paulo</td>\n",
       "      <td>1</td>\n",
       "      <td>44</td>\n",
       "      <td>4</td>\n",
       "      <td>142051.07</td>\n",
       "      <td>2</td>\n",
       "      <td>0</td>\n",
       "      <td>1</td>\n",
       "      <td>3122.520833</td>\n",
       "    </tr>\n",
       "    <tr>\n",
       "      <th>9</th>\n",
       "      <td>684</td>\n",
       "      <td>São Paulo</td>\n",
       "      <td>1</td>\n",
       "      <td>27</td>\n",
       "      <td>2</td>\n",
       "      <td>134603.88</td>\n",
       "      <td>1</td>\n",
       "      <td>1</td>\n",
       "      <td>1</td>\n",
       "      <td>2988.572083</td>\n",
       "    </tr>\n",
       "  </tbody>\n",
       "</table>\n",
       "</div>"
      ],
      "text/plain": [
       "   Score Crédito          Estado  Gênero  Idade  Tempo como cliente (meses)  \\\n",
       "0            619       São Paulo       0     42                           2   \n",
       "1            608  Rio de Janeiro       0     41                           1   \n",
       "2            502       São Paulo       0     42                           8   \n",
       "3            699       São Paulo       0     39                           1   \n",
       "4            850  Rio de Janeiro       0     43                           2   \n",
       "5            645  Rio de Janeiro       1     44                           8   \n",
       "6            822       São Paulo       1     50                           7   \n",
       "7            376    Minas Gerais       0     29                           4   \n",
       "8            501       São Paulo       1     44                           4   \n",
       "9            684       São Paulo       1     27                           2   \n",
       "\n",
       "       Saldo  Número de produtos  Possui Cartao de Crédito  \\\n",
       "0       0.00                   1                         1   \n",
       "1   83807.86                   1                         0   \n",
       "2  159660.80                   3                         1   \n",
       "3       0.00                   2                         0   \n",
       "4  125510.82                   1                         1   \n",
       "5  113755.78                   2                         1   \n",
       "6       0.00                   2                         1   \n",
       "7  115046.74                   4                         1   \n",
       "8  142051.07                   2                         0   \n",
       "9  134603.88                   1                         1   \n",
       "\n",
       "   Assina mensalidade  Renda Mensal Presumida (R$)  \n",
       "0                   1                  4222.870000  \n",
       "1                   1                  4689.274167  \n",
       "2                   0                  4747.148750  \n",
       "3                   0                  3909.442917  \n",
       "4                   1                  3295.170833  \n",
       "5                   0                  6239.862917  \n",
       "6                   1                   419.283333  \n",
       "7                   0                  4972.786667  \n",
       "8                   1                  3122.520833  \n",
       "9                   1                  2988.572083  "
      ]
     },
     "execution_count": 29,
     "metadata": {},
     "output_type": "execute_result"
    }
   ],
   "source": [
    "##Substituindo a variável gênero para 0 e 1 Feminino = 0 Masculino = 1 \n",
    "le = LabelEncoder()\n",
    "X['Gênero'] = le.fit_transform(X['Gênero']) \n",
    "X.head(10)"
   ]
  },
  {
   "cell_type": "code",
   "execution_count": 30,
   "metadata": {},
   "outputs": [],
   "source": [
    "X = pd.get_dummies (data = X, columns=['Estado','Número de produtos'])"
   ]
  },
  {
   "cell_type": "code",
   "execution_count": 31,
   "metadata": {},
   "outputs": [
    {
     "data": {
      "text/html": [
       "<div>\n",
       "<style scoped>\n",
       "    .dataframe tbody tr th:only-of-type {\n",
       "        vertical-align: middle;\n",
       "    }\n",
       "\n",
       "    .dataframe tbody tr th {\n",
       "        vertical-align: top;\n",
       "    }\n",
       "\n",
       "    .dataframe thead th {\n",
       "        text-align: right;\n",
       "    }\n",
       "</style>\n",
       "<table border=\"1\" class=\"dataframe\">\n",
       "  <thead>\n",
       "    <tr style=\"text-align: right;\">\n",
       "      <th></th>\n",
       "      <th>Score Crédito</th>\n",
       "      <th>Saldo</th>\n",
       "      <th>Idade</th>\n",
       "      <th>Renda Mensal Presumida (R$)</th>\n",
       "      <th>Tempo como cliente (meses)</th>\n",
       "    </tr>\n",
       "  </thead>\n",
       "  <tbody>\n",
       "    <tr>\n",
       "      <th>0</th>\n",
       "      <td>0.538</td>\n",
       "      <td>0.000000</td>\n",
       "      <td>0.324324</td>\n",
       "      <td>0.506735</td>\n",
       "      <td>0.2</td>\n",
       "    </tr>\n",
       "    <tr>\n",
       "      <th>1</th>\n",
       "      <td>0.516</td>\n",
       "      <td>0.334031</td>\n",
       "      <td>0.310811</td>\n",
       "      <td>0.562709</td>\n",
       "      <td>0.1</td>\n",
       "    </tr>\n",
       "    <tr>\n",
       "      <th>2</th>\n",
       "      <td>0.304</td>\n",
       "      <td>0.636357</td>\n",
       "      <td>0.324324</td>\n",
       "      <td>0.569654</td>\n",
       "      <td>0.8</td>\n",
       "    </tr>\n",
       "    <tr>\n",
       "      <th>3</th>\n",
       "      <td>0.698</td>\n",
       "      <td>0.000000</td>\n",
       "      <td>0.283784</td>\n",
       "      <td>0.469120</td>\n",
       "      <td>0.1</td>\n",
       "    </tr>\n",
       "    <tr>\n",
       "      <th>4</th>\n",
       "      <td>1.000</td>\n",
       "      <td>0.500246</td>\n",
       "      <td>0.337838</td>\n",
       "      <td>0.395400</td>\n",
       "      <td>0.2</td>\n",
       "    </tr>\n",
       "    <tr>\n",
       "      <th>...</th>\n",
       "      <td>...</td>\n",
       "      <td>...</td>\n",
       "      <td>...</td>\n",
       "      <td>...</td>\n",
       "      <td>...</td>\n",
       "    </tr>\n",
       "    <tr>\n",
       "      <th>9995</th>\n",
       "      <td>0.842</td>\n",
       "      <td>0.000000</td>\n",
       "      <td>0.283784</td>\n",
       "      <td>0.481341</td>\n",
       "      <td>0.5</td>\n",
       "    </tr>\n",
       "    <tr>\n",
       "      <th>9996</th>\n",
       "      <td>0.332</td>\n",
       "      <td>0.228657</td>\n",
       "      <td>0.229730</td>\n",
       "      <td>0.508490</td>\n",
       "      <td>1.0</td>\n",
       "    </tr>\n",
       "    <tr>\n",
       "      <th>9997</th>\n",
       "      <td>0.718</td>\n",
       "      <td>0.000000</td>\n",
       "      <td>0.243243</td>\n",
       "      <td>0.210390</td>\n",
       "      <td>0.7</td>\n",
       "    </tr>\n",
       "    <tr>\n",
       "      <th>9998</th>\n",
       "      <td>0.844</td>\n",
       "      <td>0.299226</td>\n",
       "      <td>0.324324</td>\n",
       "      <td>0.464429</td>\n",
       "      <td>0.3</td>\n",
       "    </tr>\n",
       "    <tr>\n",
       "      <th>9999</th>\n",
       "      <td>0.884</td>\n",
       "      <td>0.518708</td>\n",
       "      <td>0.135135</td>\n",
       "      <td>0.190914</td>\n",
       "      <td>0.4</td>\n",
       "    </tr>\n",
       "  </tbody>\n",
       "</table>\n",
       "<p>10000 rows × 5 columns</p>\n",
       "</div>"
      ],
      "text/plain": [
       "      Score Crédito     Saldo     Idade  Renda Mensal Presumida (R$)  \\\n",
       "0             0.538  0.000000  0.324324                     0.506735   \n",
       "1             0.516  0.334031  0.310811                     0.562709   \n",
       "2             0.304  0.636357  0.324324                     0.569654   \n",
       "3             0.698  0.000000  0.283784                     0.469120   \n",
       "4             1.000  0.500246  0.337838                     0.395400   \n",
       "...             ...       ...       ...                          ...   \n",
       "9995          0.842  0.000000  0.283784                     0.481341   \n",
       "9996          0.332  0.228657  0.229730                     0.508490   \n",
       "9997          0.718  0.000000  0.243243                     0.210390   \n",
       "9998          0.844  0.299226  0.324324                     0.464429   \n",
       "9999          0.884  0.518708  0.135135                     0.190914   \n",
       "\n",
       "      Tempo como cliente (meses)  \n",
       "0                            0.2  \n",
       "1                            0.1  \n",
       "2                            0.8  \n",
       "3                            0.1  \n",
       "4                            0.2  \n",
       "...                          ...  \n",
       "9995                         0.5  \n",
       "9996                         1.0  \n",
       "9997                         0.7  \n",
       "9998                         0.3  \n",
       "9999                         0.4  \n",
       "\n",
       "[10000 rows x 5 columns]"
      ]
     },
     "execution_count": 31,
     "metadata": {},
     "output_type": "execute_result"
    }
   ],
   "source": [
    "scaler = MinMaxScaler()\n",
    "X[x_continua] = scaler.fit_transform(X[x_continua])\n",
    "X[x_continua]"
   ]
  },
  {
   "cell_type": "markdown",
   "metadata": {},
   "source": [
    "**Fazendo oversampling**"
   ]
  },
  {
   "cell_type": "code",
   "execution_count": 32,
   "metadata": {},
   "outputs": [],
   "source": [
    "ros = RandomOverSampler(random_state=0)\n",
    "X_resampled, y_resampled = ros.fit_resample(X, y)\n",
    "y_resampled.value_counts(normalize=True)\n",
    "X1 = X_resampled.copy()"
   ]
  },
  {
   "cell_type": "code",
   "execution_count": 33,
   "metadata": {},
   "outputs": [],
   "source": [
    "x_treino, x_teste, y_treino,y_teste  = train_test_split(X,y, test_size = 0.25, random_state = 42)\n",
    "x_treino_res, x_teste_res, y_treino_res,y_teste_res= train_test_split(X_resampled,y_resampled, test_size = 0.25, random_state = 42)"
   ]
  },
  {
   "cell_type": "markdown",
   "metadata": {},
   "source": [
    "## 3. Testando Modelos"
   ]
  },
  {
   "cell_type": "code",
   "execution_count": 34,
   "metadata": {},
   "outputs": [],
   "source": [
    "lr = LogisticRegression(solver='newton-cg')\n",
    "bg = BaggingClassifier(base_estimator=lr)\n",
    "rf = RandomForestClassifier(class_weight='balanced')\n",
    "knn = KNeighborsClassifier()\n",
    "xgb = XGBClassifier()"
   ]
  },
  {
   "cell_type": "code",
   "execution_count": 35,
   "metadata": {},
   "outputs": [],
   "source": [
    "clf_list = [lr,bg,rf,knn,xgb]"
   ]
  },
  {
   "cell_type": "markdown",
   "metadata": {},
   "source": [
    "**Sem oversampling**"
   ]
  },
  {
   "cell_type": "code",
   "execution_count": 36,
   "metadata": {
    "scrolled": false
   },
   "outputs": [
    {
     "name": "stdout",
     "output_type": "stream",
     "text": [
      "=> LogisticRegression\n"
     ]
    },
    {
     "data": {
      "image/png": "[encoded data removed]",
      "text/plain": [
       "<Figure size 144x144 with 1 Axes>"
      ]
     },
     "metadata": {
      "needs_background": "light"
     },
     "output_type": "display_data"
    },
    {
     "name": "stdout",
     "output_type": "stream",
     "text": [
      "              precision    recall  f1-score   support\n",
      "\n",
      "           0       0.86      0.96      0.91      2003\n",
      "           1       0.69      0.36      0.48       497\n",
      "\n",
      "    accuracy                           0.84      2500\n",
      "   macro avg       0.78      0.66      0.69      2500\n",
      "weighted avg       0.83      0.84      0.82      2500\n",
      "\n",
      "============================================================\n",
      "=> BaggingClassifier\n"
     ]
    },
    {
     "data": {
      "image/png": "[encoded data removed]",
      "text/plain": [
       "<Figure size 144x144 with 1 Axes>"
      ]
     },
     "metadata": {
      "needs_background": "light"
     },
     "output_type": "display_data"
    },
    {
     "name": "stdout",
     "output_type": "stream",
     "text": [
      "              precision    recall  f1-score   support\n",
      "\n",
      "           0       0.86      0.96      0.91      2003\n",
      "           1       0.69      0.36      0.47       497\n",
      "\n",
      "    accuracy                           0.84      2500\n",
      "   macro avg       0.78      0.66      0.69      2500\n",
      "weighted avg       0.82      0.84      0.82      2500\n",
      "\n",
      "============================================================\n",
      "=> RandomForestClassifier\n"
     ]
    },
    {
     "data": {
      "image/png": "[encoded data removed]",
      "text/plain": [
       "<Figure size 144x144 with 1 Axes>"
      ]
     },
     "metadata": {
      "needs_background": "light"
     },
     "output_type": "display_data"
    },
    {
     "name": "stdout",
     "output_type": "stream",
     "text": [
      "              precision    recall  f1-score   support\n",
      "\n",
      "           0       0.88      0.97      0.92      2003\n",
      "           1       0.80      0.47      0.59       497\n",
      "\n",
      "    accuracy                           0.87      2500\n",
      "   macro avg       0.84      0.72      0.76      2500\n",
      "weighted avg       0.86      0.87      0.86      2500\n",
      "\n",
      "============================================================\n",
      "=> KNeighborsClassifier\n"
     ]
    },
    {
     "data": {
      "image/png": "[encoded data removed]",
      "text/plain": [
       "<Figure size 144x144 with 1 Axes>"
      ]
     },
     "metadata": {
      "needs_background": "light"
     },
     "output_type": "display_data"
    },
    {
     "name": "stdout",
     "output_type": "stream",
     "text": [
      "              precision    recall  f1-score   support\n",
      "\n",
      "           0       0.86      0.93      0.90      2003\n",
      "           1       0.61      0.41      0.49       497\n",
      "\n",
      "    accuracy                           0.83      2500\n",
      "   macro avg       0.73      0.67      0.69      2500\n",
      "weighted avg       0.81      0.83      0.82      2500\n",
      "\n",
      "============================================================\n",
      "=> XGBClassifier\n"
     ]
    },
    {
     "data": {
      "image/png": "[encoded data removed]",
      "text/plain": [
       "<Figure size 144x144 with 1 Axes>"
      ]
     },
     "metadata": {
      "needs_background": "light"
     },
     "output_type": "display_data"
    },
    {
     "name": "stdout",
     "output_type": "stream",
     "text": [
      "              precision    recall  f1-score   support\n",
      "\n",
      "           0       0.89      0.96      0.92      2003\n",
      "           1       0.75      0.52      0.61       497\n",
      "\n",
      "    accuracy                           0.87      2500\n",
      "   macro avg       0.82      0.74      0.77      2500\n",
      "weighted avg       0.86      0.87      0.86      2500\n",
      "\n",
      "============================================================\n"
     ]
    }
   ],
   "source": [
    "cmap_lst = ['Oranges', 'Greens', 'Blues','Reds', 'Purples']\n",
    "for clf, cmap in zip(clf_list, cmap_lst):\n",
    "    print('=>', clf.__class__.__name__)\n",
    "    clf.fit(x_treino, y_treino)\n",
    "    y_pred = clf.predict(x_teste)\n",
    "    \n",
    "    plt.figure(figsize=(2, 2))\n",
    "    sns.heatmap(confusion_matrix(y_teste, y_pred),\n",
    "                annot=True, cbar=False, fmt='g', cmap=cmap)\n",
    "    plt.show()\n",
    "    print(classification_report(y_teste, y_pred))\n",
    "    print('='*60)"
   ]
  },
  {
   "cell_type": "markdown",
   "metadata": {},
   "source": [
    "**Com oversampling**"
   ]
  },
  {
   "cell_type": "code",
   "execution_count": 37,
   "metadata": {
    "scrolled": false
   },
   "outputs": [
    {
     "name": "stdout",
     "output_type": "stream",
     "text": [
      "LogisticRegression(solver='newton-cg')\n",
      "=> LogisticRegression\n"
     ]
    },
    {
     "data": {
      "image/png": "[encoded data removed]",
      "text/plain": [
       "<Figure size 144x144 with 1 Axes>"
      ]
     },
     "metadata": {
      "needs_background": "light"
     },
     "output_type": "display_data"
    },
    {
     "name": "stdout",
     "output_type": "stream",
     "text": [
      "              precision    recall  f1-score   support\n",
      "\n",
      "           0       0.77      0.76      0.77      2036\n",
      "           1       0.75      0.76      0.76      1946\n",
      "\n",
      "    accuracy                           0.76      3982\n",
      "   macro avg       0.76      0.76      0.76      3982\n",
      "weighted avg       0.76      0.76      0.76      3982\n",
      "\n",
      "============================================================\n",
      "BaggingClassifier(base_estimator=LogisticRegression(solver='newton-cg'))\n",
      "=> BaggingClassifier\n"
     ]
    },
    {
     "data": {
      "image/png": "[encoded data removed]",
      "text/plain": [
       "<Figure size 144x144 with 1 Axes>"
      ]
     },
     "metadata": {
      "needs_background": "light"
     },
     "output_type": "display_data"
    },
    {
     "name": "stdout",
     "output_type": "stream",
     "text": [
      "              precision    recall  f1-score   support\n",
      "\n",
      "           0       0.77      0.77      0.77      2036\n",
      "           1       0.75      0.76      0.76      1946\n",
      "\n",
      "    accuracy                           0.76      3982\n",
      "   macro avg       0.76      0.76      0.76      3982\n",
      "weighted avg       0.76      0.76      0.76      3982\n",
      "\n",
      "============================================================\n",
      "RandomForestClassifier(class_weight='balanced')\n",
      "=> RandomForestClassifier\n"
     ]
    },
    {
     "data": {
      "image/png": "[encoded data removed]",
      "text/plain": [
       "<Figure size 144x144 with 1 Axes>"
      ]
     },
     "metadata": {
      "needs_background": "light"
     },
     "output_type": "display_data"
    },
    {
     "name": "stdout",
     "output_type": "stream",
     "text": [
      "              precision    recall  f1-score   support\n",
      "\n",
      "           0       0.98      0.90      0.94      2036\n",
      "           1       0.91      0.98      0.94      1946\n",
      "\n",
      "    accuracy                           0.94      3982\n",
      "   macro avg       0.94      0.94      0.94      3982\n",
      "weighted avg       0.94      0.94      0.94      3982\n",
      "\n",
      "============================================================\n",
      "KNeighborsClassifier()\n",
      "=> KNeighborsClassifier\n"
     ]
    },
    {
     "data": {
      "image/png": "[encoded data removed]",
      "text/plain": [
       "<Figure size 144x144 with 1 Axes>"
      ]
     },
     "metadata": {
      "needs_background": "light"
     },
     "output_type": "display_data"
    },
    {
     "name": "stdout",
     "output_type": "stream",
     "text": [
      "              precision    recall  f1-score   support\n",
      "\n",
      "           0       0.86      0.72      0.79      2036\n",
      "           1       0.75      0.88      0.81      1946\n",
      "\n",
      "    accuracy                           0.80      3982\n",
      "   macro avg       0.81      0.80      0.80      3982\n",
      "weighted avg       0.81      0.80      0.80      3982\n",
      "\n",
      "============================================================\n",
      "XGBClassifier(base_score=0.5, booster='gbtree', colsample_bylevel=1,\n",
      "              colsample_bynode=1, colsample_bytree=1, gamma=0, gpu_id=-1,\n",
      "              importance_type='gain', interaction_constraints='',\n",
      "              learning_rate=0.300000012, max_delta_step=0, max_depth=6,\n",
      "              min_child_weight=1, missing=nan, monotone_constraints='()',\n",
      "              n_estimators=100, n_jobs=0, num_parallel_tree=1, random_state=0,\n",
      "              reg_alpha=0, reg_lambda=1, scale_pos_weight=1, subsample=1,\n",
      "              tree_method='exact', validate_parameters=1, verbosity=None)\n",
      "=> XGBClassifier\n"
     ]
    },
    {
     "data": {
      "image/png": "[encoded data removed]",
      "text/plain": [
       "<Figure size 144x144 with 1 Axes>"
      ]
     },
     "metadata": {
      "needs_background": "light"
     },
     "output_type": "display_data"
    },
    {
     "name": "stdout",
     "output_type": "stream",
     "text": [
      "              precision    recall  f1-score   support\n",
      "\n",
      "           0       0.93      0.86      0.89      2036\n",
      "           1       0.86      0.93      0.90      1946\n",
      "\n",
      "    accuracy                           0.89      3982\n",
      "   macro avg       0.90      0.89      0.89      3982\n",
      "weighted avg       0.90      0.89      0.89      3982\n",
      "\n",
      "============================================================\n"
     ]
    }
   ],
   "source": [
    "cmap_lst = ['Oranges', 'Greens', 'Blues','Reds', 'Purples']\n",
    "for clf, cmap in zip(clf_list, cmap_lst):\n",
    "    print(clf)\n",
    "    print('=>', clf.__class__.__name__)\n",
    "    clf.fit(x_treino_res, y_treino_res)\n",
    "    y_pred = clf.predict(x_teste_res)\n",
    "    \n",
    "    plt.figure(figsize=(2, 2))\n",
    "    sns.heatmap(confusion_matrix(y_teste_res, y_pred),\n",
    "                annot=True, cbar=False, fmt='g', cmap=cmap)\n",
    "    \n",
    "    plt.show()\n",
    "    print(classification_report(y_teste_res, y_pred))\n",
    "    print('='*60)"
   ]
  },
  {
   "cell_type": "markdown",
   "metadata": {},
   "source": [
    "Podemos ver que o oversampling foi capaz de melhorar a acurácia, usaremos para outras comparações os modelos com oversampling a partir de agora. "
   ]
  },
  {
   "cell_type": "markdown",
   "metadata": {},
   "source": [
    "### Comparação de custo total para a escolha do algoritmo "
   ]
  },
  {
   "cell_type": "markdown",
   "metadata": {},
   "source": [
    "Segundo o relátorio do BB sobre Equity Research do Banco inter https://www.bb.com.br/docs/portal/dimec/BIDIRP19.pdf\n",
    "o CAC (custo de aquisição de clientes) médio é de **R$ 21,14** reais por cliente no ano de 2019\n",
    "\n",
    "Vamos supor também que é cinco vezes mais caro adquirir um novo cliente do que manter um existente. Então custo para manter (CM) igual **R$ 4,23** reais por cliente\n",
    "\n",
    "* Custo:\n",
    "    * Falso negativo (previsão de que não ocorre churn, mas ocorre):R$ 21,14\n",
    "\n",
    "    * Verdadeiro positivo (previsão de que ocorre churn e, de fato, ocorre): R$ 4,23\n",
    "\n",
    "    * Falso positivo (previsão de que ocorre churn, mas não ocorre): R$ 4,23\n",
    "\n",
    "    * Verdadeiro negativo (previsão de que não ocorre churn e, de fato, não ocorre):R$ 0"
   ]
  },
  {
   "cell_type": "code",
   "execution_count": 38,
   "metadata": {},
   "outputs": [],
   "source": [
    "CAC = 21.14\n",
    "CM = 4.23"
   ]
  },
  {
   "cell_type": "code",
   "execution_count": 39,
   "metadata": {},
   "outputs": [],
   "source": [
    "def calcula_custo(clf_list):\n",
    "    cs_total = []\n",
    "    clfs_list = []\n",
    "    for clf in clf_list: \n",
    "        clfs_list.append(clf.__class__.__name__)\n",
    "        clf.fit(x_treino_res, y_treino_res)\n",
    "        y_pred = clf.predict(x_teste_res)\n",
    "\n",
    "        cm = confusion_matrix(y_teste_res, y_pred)\n",
    "        TP = cm[0][0]\n",
    "        TN = cm[1][1]\n",
    "        FP = cm[0][1]\n",
    "        FN = cm[1][0]\n",
    "        cs_tl = (FN*CAC + TP*CM + FP*CM + TN * 0)/len(y_teste_res)\n",
    "        cs_total.append(cs_tl)\n",
    "    return (cs_total, clfs_list)"
   ]
  },
  {
   "cell_type": "code",
   "execution_count": 40,
   "metadata": {},
   "outputs": [
    {
     "data": {
      "text/html": [
       "<div>\n",
       "<style scoped>\n",
       "    .dataframe tbody tr th:only-of-type {\n",
       "        vertical-align: middle;\n",
       "    }\n",
       "\n",
       "    .dataframe tbody tr th {\n",
       "        vertical-align: top;\n",
       "    }\n",
       "\n",
       "    .dataframe thead th {\n",
       "        text-align: right;\n",
       "    }\n",
       "</style>\n",
       "<table border=\"1\" class=\"dataframe\">\n",
       "  <thead>\n",
       "    <tr style=\"text-align: right;\">\n",
       "      <th></th>\n",
       "      <th>Modelo</th>\n",
       "      <th>Custo por cliente</th>\n",
       "    </tr>\n",
       "  </thead>\n",
       "  <tbody>\n",
       "    <tr>\n",
       "      <th>2</th>\n",
       "      <td>RandomForestClassifier</td>\n",
       "      <td>2.396394</td>\n",
       "    </tr>\n",
       "    <tr>\n",
       "      <th>4</th>\n",
       "      <td>XGBClassifier</td>\n",
       "      <td>2.837032</td>\n",
       "    </tr>\n",
       "    <tr>\n",
       "      <th>3</th>\n",
       "      <td>KNeighborsClassifier</td>\n",
       "      <td>3.378538</td>\n",
       "    </tr>\n",
       "    <tr>\n",
       "      <th>1</th>\n",
       "      <td>BaggingClassifier</td>\n",
       "      <td>4.657981</td>\n",
       "    </tr>\n",
       "    <tr>\n",
       "      <th>0</th>\n",
       "      <td>LogisticRegression</td>\n",
       "      <td>4.663290</td>\n",
       "    </tr>\n",
       "  </tbody>\n",
       "</table>\n",
       "</div>"
      ],
      "text/plain": [
       "                   Modelo  Custo por cliente\n",
       "2  RandomForestClassifier           2.396394\n",
       "4           XGBClassifier           2.837032\n",
       "3    KNeighborsClassifier           3.378538\n",
       "1       BaggingClassifier           4.657981\n",
       "0      LogisticRegression           4.663290"
      ]
     },
     "execution_count": 40,
     "metadata": {},
     "output_type": "execute_result"
    }
   ],
   "source": [
    "cs_p_ct, clfs_list = calcula_custo(clf_list)\n",
    "df_ct = pd.DataFrame({'Modelo': clfs_list,\n",
    "                      'Custo por cliente': cs_p_ct})\n",
    "df_ct.sort_values('Custo por cliente',ascending=True )"
   ]
  },
  {
   "cell_type": "markdown",
   "metadata": {},
   "source": [
    "**Pelos valores de accuracy, recall e menor custo total escolheu-se o modelo com RandomForest para ajustar seus hiper-parâmetros** "
   ]
  },
  {
   "cell_type": "markdown",
   "metadata": {},
   "source": [
    "### **Analisando a importância das variáveis**"
   ]
  },
  {
   "cell_type": "code",
   "execution_count": 41,
   "metadata": {},
   "outputs": [
    {
     "data": {
      "image/png": "[encoded data removed]",
      "text/plain": [
       "<Figure size 720x576 with 1 Axes>"
      ]
     },
     "metadata": {
      "needs_background": "light"
     },
     "output_type": "display_data"
    }
   ],
   "source": [
    "fig = plt.subplots(figsize=(10,8))\n",
    "pd.Series(rf.feature_importances_, index=x_treino_res.columns).sort_values().plot(kind='barh');"
   ]
  },
  {
   "cell_type": "markdown",
   "metadata": {},
   "source": [
    "**Tunando Hiper-Parâmetro**"
   ]
  },
  {
   "cell_type": "code",
   "execution_count": 42,
   "metadata": {},
   "outputs": [],
   "source": [
    "from sklearn.model_selection import RandomizedSearchCV, GridSearchCV , StratifiedKFold"
   ]
  },
  {
   "cell_type": "code",
   "execution_count": 43,
   "metadata": {},
   "outputs": [],
   "source": [
    "skf = StratifiedKFold(5)"
   ]
  },
  {
   "cell_type": "code",
   "execution_count": 44,
   "metadata": {},
   "outputs": [
    {
     "name": "stdout",
     "output_type": "stream",
     "text": [
      "Fitting 5 folds for each of 20 candidates, totalling 100 fits\n"
     ]
    },
    {
     "name": "stderr",
     "output_type": "stream",
     "text": [
      "[Parallel(n_jobs=-1)]: Using backend LokyBackend with 4 concurrent workers.\n",
      "[Parallel(n_jobs=-1)]: Done  42 tasks      | elapsed:   35.1s\n",
      "[Parallel(n_jobs=-1)]: Done 100 out of 100 | elapsed:  1.0min finished\n"
     ]
    },
    {
     "data": {
      "text/plain": [
       "RandomizedSearchCV(cv=StratifiedKFold(n_splits=5, random_state=None, shuffle=False),\n",
       "                   estimator=RandomForestClassifier(class_weight='balanced'),\n",
       "                   n_iter=20, n_jobs=-1,\n",
       "                   param_distributions={'max_features': ['auto', 'sqrt', 'log2',\n",
       "                                                         None],\n",
       "                                        'min_samples_leaf': [1, 2, 4, 6, 8],\n",
       "                                        'min_samples_split': [2, 4, 6, 10],\n",
       "                                        'n_estimators': [30, 40, 50, 60]},\n",
       "                   scoring='neg_mean_absolute_error', verbose=1)"
      ]
     },
     "execution_count": 44,
     "metadata": {},
     "output_type": "execute_result"
    }
   ],
   "source": [
    "n_estimators = [30,40,50,60]\n",
    "## Min Samples Split\n",
    "min_samples_split = [2, 4, 6, 10]\n",
    "## Min Samples Leaf\n",
    "min_samples_leaf = [1, 2, 4, 6, 8]\n",
    "## Max Features\n",
    "max_features = ['auto', 'sqrt','log2', None]\n",
    "# Criando o Random Search\n",
    "class_weight = ['balanced', 'balanced_subsample']\n",
    "\n",
    "rf_parametros = {\n",
    "                'n_estimators': n_estimators,\n",
    "               'min_samples_split': min_samples_split,\n",
    "               'min_samples_leaf': min_samples_leaf,\n",
    "               'max_features': max_features}\n",
    "## Random Forest Tuning\n",
    "RFtuning = RandomizedSearchCV(estimator=rf, ## Random Forest\n",
    "                              param_distributions=rf_parametros, ## Parâmetros\n",
    "                              cv=skf, ## Cross validation\n",
    "                              n_iter=20, ## Número de Iterações\n",
    "                              scoring = 'neg_mean_absolute_error', ## Métrica\n",
    "                              n_jobs = -1, ## Utilizando todos os processadores\n",
    "                              verbose = 1)\n",
    "\n",
    "RFtuning.fit(x_treino_res, y_treino_res)"
   ]
  },
  {
   "cell_type": "code",
   "execution_count": 45,
   "metadata": {},
   "outputs": [
    {
     "data": {
      "text/plain": [
       "RandomForestClassifier(class_weight='balanced', min_samples_split=4,\n",
       "                       n_estimators=40)"
      ]
     },
     "execution_count": 45,
     "metadata": {},
     "output_type": "execute_result"
    }
   ],
   "source": [
    "RFtuning.best_estimator_"
   ]
  },
  {
   "cell_type": "code",
   "execution_count": 46,
   "metadata": {},
   "outputs": [
    {
     "data": {
      "image/png": "[encoded data removed]",
      "text/plain": [
       "<Figure size 144x144 with 1 Axes>"
      ]
     },
     "metadata": {
      "needs_background": "light"
     },
     "output_type": "display_data"
    },
    {
     "name": "stdout",
     "output_type": "stream",
     "text": [
      "              precision    recall  f1-score   support\n",
      "\n",
      "           0       0.97      0.90      0.93      2036\n",
      "           1       0.90      0.97      0.94      1946\n",
      "\n",
      "    accuracy                           0.94      3982\n",
      "   macro avg       0.94      0.94      0.94      3982\n",
      "weighted avg       0.94      0.94      0.94      3982\n",
      "\n"
     ]
    }
   ],
   "source": [
    "rf2 = RandomForestClassifier(class_weight='balanced', max_features='sqrt',\n",
    "                    n_estimators=60)\n",
    "rf2.fit(x_treino_res, y_treino_res)\n",
    "y_pred = rf2.predict(x_teste_res)\n",
    "    \n",
    "plt.figure(figsize=(2, 2))\n",
    "sns.heatmap(confusion_matrix(y_teste_res, y_pred),\n",
    "            annot=True, cbar=False, fmt='g', cmap=cmap)\n",
    "    \n",
    "plt.show()\n",
    "print(classification_report(y_teste_res, y_pred))"
   ]
  },
  {
   "cell_type": "markdown",
   "metadata": {},
   "source": [
    "Tunar o Hiper-parâmetro não produziu diferença"
   ]
  },
  {
   "cell_type": "markdown",
   "metadata": {},
   "source": [
    "### Conclusão Final "
   ]
  },
  {
   "cell_type": "markdown",
   "metadata": {},
   "source": [
    "* O algoritmo escolhido que possibilitou um menor custo por cliente de R$ 2,40 reais por cliente, foi o RandomForestClassifier com uma acurácia de 94%"
   ]
  }
 ],
 "metadata": {
  "kernelspec": {
   "display_name": "Python 3",
   "language": "python",
   "name": "python3"
  },
  "language_info": {
   "codemirror_mode": {
    "name": "ipython",
    "version": 3
   },
   "file_extension": ".py",
   "mimetype": "text/x-python",
   "name": "python",
   "nbconvert_exporter": "python",
   "pygments_lexer": "ipython3",
   "version": "3.8.3"
  }
 },
 "nbformat": 4,
 "nbformat_minor": 4
}
